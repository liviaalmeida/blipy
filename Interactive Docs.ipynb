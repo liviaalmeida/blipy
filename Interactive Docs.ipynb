{
 "cells": [
  {
   "cell_type": "markdown",
   "metadata": {},
   "source": [
    "# blipy\n",
    "\n",
    "Blipy is a http requester made specifically to be used with [BLiP.ai](https://portal.blip.ai/) endpoints, with some requests right out of the box. Available endpoints can be found in [BLiP documentation](https://docs.blip.ai).\n",
    "\n",
    "  - Instantiate requesters classes using the bot key\n",
    "  - No need to request all resources manually\n",
    "  - Magic\n",
    "\n",
    "## Installation\n",
    "\n",
    "Use `pip` to install the package.\n",
    "\n",
    "```sh\n",
    "$ pip install blipy\n",
    "```"
   ]
  },
  {
   "cell_type": "markdown",
   "metadata": {},
   "source": [
    "## Modules\n",
    "\n",
    "Blipy offers the following modules.\n",
    "\n",
    "| Modules | Description |\n",
    "| ------ | ------ |\n",
    "| Types | Contains base types for the package |\n",
    "| Http | Requesters like Lime and Postmaster |\n",
    "| Postmasters | Pre configured Postmasters |"
   ]
  },
  {
   "cell_type": "markdown",
   "metadata": {},
   "source": [
    "### Types\n",
    "\n",
    "Base types are used to have more control on operations over data\n",
    "\n",
    "#### Data\n",
    "```python\n",
    "Data.new(method, uri, toId, resourceType = None, resource = None)\n",
    "```\n",
    "Used by Lime client to output a json body to every request\n",
    "\n",
    "#### Date\n",
    "```python\n",
    "Date.new(year, month, day, hour = 0, minute = 0, second = 0)\n",
    "```\n",
    "Outputs a date in the format of a Lime QueryString\n",
    "\n",
    "```python\n",
    "Date.interval(startDate, endDate)\n",
    "```\n",
    "Outputs an object with keys `startDate` and `endDate`\n",
    "\n",
    "#### Method\n",
    "Dictionary to store the Lime methods used in requests\n",
    "\n",
    "#### Response\n",
    "Class of serializable data to store Lime responses\n",
    "\n",
    "#### Resource\n",
    "Class of serializable data to store Lime resources, which are part of responses\n",
    "\n",
    "#### Serializable\n",
    "Serializable receives a json and creates a new object such as its members are capitalized keys of that json. This enables storing any json as an object without using Python's reserved words such as `from` and `id`\n",
    "\n",
    "#### URI\n",
    "```python\n",
    "new(baseuri, params = None)\n",
    "```\n",
    "Outputs an encoded URI to use with Lime, receiving `params` as a dictionary such as each param will be incorporated to the URI as `key=value`"
   ]
  },
  {
   "cell_type": "code",
   "execution_count": 9,
   "metadata": {},
   "outputs": [
    {
     "name": "stdout",
     "output_type": "stream",
     "text": [
      "2020-02-20T00:00:00.000Z\n"
     ]
    }
   ],
   "source": [
    "from blipy.Types import Date\n",
    "\n",
    "startDate = Date.new(2020, 2, 20)\n",
    "\n",
    "print(startDate)"
   ]
  },
  {
   "cell_type": "code",
   "execution_count": 10,
   "metadata": {},
   "outputs": [
    {
     "name": "stdout",
     "output_type": "stream",
     "text": [
      "/example/of/uri?startDate=2020-02-20T00%3A00%3A00.000Z&endDate=2020-05-05T00%3A00%3A00.000Z&$take=100&$skip=0\n"
     ]
    }
   ],
   "source": [
    "from blipy.Types import Date, URI\n",
    "\n",
    "startDate = Date.new(2020, 2, 20)\n",
    "endDate = Date.new(2020, 5, 5)\n",
    "\n",
    "params = Date.interval(startDate, endDate)\n",
    "params['$take'] = '100'\n",
    "params['$skip'] = '0'\n",
    "\n",
    "uri = URI.new('/example/of/uri', params)\n",
    "\n",
    "print(uri)"
   ]
  },
  {
   "cell_type": "markdown",
   "metadata": {},
   "source": [
    "# Please note\n",
    "\n",
    "The next examples all require a bot key to run, so if you wish to run them please edit and run the next cell\n",
    "\n",
    "[How to obtain bot key](https://docs.blip.ai/#http)"
   ]
  },
  {
   "cell_type": "code",
   "execution_count": 11,
   "metadata": {},
   "outputs": [],
   "source": [
    "authorization = 'YOUR_BOT_KEY_HERE'"
   ]
  },
  {
   "cell_type": "markdown",
   "metadata": {},
   "source": [
    "### Http\n",
    "\n",
    "HTTP clients used to make requests to Lime\n",
    "\n",
    "#### Lime\n",
    "Stardand Lime client to make any request\n",
    "\n",
    "```python\n",
    "lime = Lime(authorization)\n",
    "```\n",
    "Creates a new instance of lime using a bot authorization key\n",
    "\n",
    "```python\n",
    "lime.Get(uri, toId)\n",
    "```\n",
    "Returns a response to a get command to `uri` and receiver `toId`\n",
    "\n",
    "```python\n",
    "lime.Set(uri, toId, resourceType, resource)\n",
    "```\n",
    "Returns a response to a set command to `uri` and receiver `toId`, with `resource` of `resourceType`\n",
    "\n",
    "```python\n",
    "lime.Delete(uri, toId)\n",
    "```\n",
    "Returns a response to a delete command to `uri` and receiver `toId`\n",
    "\n",
    "```python\n",
    "lime.GetAll(uri, toId)\n",
    "```\n",
    "Returns a response with all resources to `uri` and receiver `toId`\n",
    "\n",
    "```python\n",
    "lime.SetAll(uri, toId, resourceType, resources)\n",
    "```\n",
    "Returns a response to a set of set commands to `uri` and receiver `toId`, with multiple `resources` of `resourceType`\n",
    "\n",
    "```python\n",
    "lime.DeleteAll(uri, toId, ids)\n",
    "```\n",
    "Returns a response to a set of delete commands to `uri` and receiver `toId`, with `ids` of resources to be deleted\n",
    "\n",
    "#### Postmaster\n",
    "A `Postmaster` is responsible for handling messages inside an application. The only difference between `Postmaster` and `Lime` is that the parameter `toId` gets subtracted, since the postmaster is a receiver of fixed identity of name `postmaster@APPLICATION_NAME.msging.net` where `APPLICATION_NAME` is the name of the corresponding application\n",
    "\n",
    "```python\n",
    "pm = Postmaster(authorization, name)\n",
    "```\n",
    "Creates a new postmaster client to send requests to postmaster@`name`.msging.net"
   ]
  },
  {
   "cell_type": "code",
   "execution_count": null,
   "metadata": {},
   "outputs": [],
   "source": []
  },
  {
   "cell_type": "markdown",
   "metadata": {},
   "source": [
    "### Postmasters\n",
    "Pre configured postmaster with the most common operations available\n",
    "\n",
    "#### AIPostmaster\n",
    "Client to send messages to AI application\n",
    "\n",
    "```python\n",
    "aip = AIPostmaster(authorization)\n",
    "```\n",
    "Creates a new instance of AI Postmaster using a bot authorization key\n",
    "\n",
    "#### AnalyticsPostmaster\n",
    "Client to send messages to Analytics application\n",
    "\n",
    "```python\n",
    "anp = AnalyticsPostmaster(authorization)\n",
    "```\n",
    "Creates a new instance of Analytics Postmaster using a bot authorization key\n"
   ]
  },
  {
   "cell_type": "code",
   "execution_count": null,
   "metadata": {},
   "outputs": [],
   "source": []
  }
 ],
 "metadata": {
  "kernelspec": {
   "display_name": "Python 3",
   "language": "python",
   "name": "python3"
  },
  "language_info": {
   "codemirror_mode": {
    "name": "ipython",
    "version": 3
   },
   "file_extension": ".py",
   "mimetype": "text/x-python",
   "name": "python",
   "nbconvert_exporter": "python",
   "pygments_lexer": "ipython3",
   "version": "3.7.4"
  }
 },
 "nbformat": 4,
 "nbformat_minor": 2
}
